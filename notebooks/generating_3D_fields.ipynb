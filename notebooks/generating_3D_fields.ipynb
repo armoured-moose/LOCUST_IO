{
 "cells": [
  {
   "cell_type": "markdown",
   "metadata": {},
   "source": [
    "# ITPA Benchmark"
   ]
  },
  {
   "cell_type": "markdown",
   "metadata": {},
   "source": [
    "## Generating the 3D fields\n",
    "\n",
    "Fields are taken from MARS-F during the ERTL [study](https://iopscience.iop.org/article/10.1088/1361-6587/aaef61).\n",
    "\n",
    "MARS-F has two types of output formats (it seems). Dave Ryan's is the real and imaginary parts of each component on a rectangular poloidal grid, to be expand as follows:\n",
    "\n",
    "\\begin{equation}\n",
    "dB_{i}(r,z)=\\Re{\\{dB_{i}(r,z)e^{in\\phi}\\}}\n",
    "\\end{equation}\n",
    "\n",
    "where $dB_{i}(r,z)$ is a complex amplitude. LOCUST then assumes that the code which produced the field has $\\phi$ running clock-wise - opposite to how it should be in LOCUST. Therefore, it expands this field as so:\n",
    "\n",
    "\\begin{equation}\n",
    "dB_{R}(r,z)=dB_{R real} cos(n\\phi i3dr -\\theta)-dB_{R imag} sin(n\\phi i3dr-\\theta) \\\\\n",
    "dB_{Z}(r,z)=dB_{Z real} cos(n\\phi i3dr -\\theta)-dB_{Z imag} sin(n\\phi i3dr-\\theta) \\\\\n",
    "dB_{R}(r,z)=(dB_{\\phi real} cos(n\\phi i3dr -\\theta)-dB_{\\phi imag} sin(n\\phi i3dr-\\theta))\\times i3dr\n",
    "\\end{equation}\n",
    "\n",
    "\n",
    "## Checking the 3D fields\n",
    "\n",
    "Using Antti's 3D data and MATLAB scripts, one can check the field using:\n",
    "\n",
    "```matlab\n",
    "bkg=read_magn_bkg('bfield_inputs/mars_prn6_40_deg.magn_bkg')\n",
    "plot(squeeze(bkg.BR(70,66,:))) ;plot R component of 3D field vs toroidal angle at R,Z=66,70\n",
    "```\n",
    "\n",
    "Some example points for checking are:\n",
    " \n",
    "45:80  = 1.5962 : -0.0808  \n",
    "72:124 = 2.1154 : 0.7096  \n",
    "75:128 = 2.1731 : 0.7814  \n",
    "78:124 = 2.2308 : 0.7096  \n",
    "62:126 = 1.9231 : 0.7455  \n",
    "\n",
    "with RZ in matlab notation : real RZ location [m] \n",
    "\n",
    "\n",
    "\n"
   ]
  },
  {
   "cell_type": "code",
   "execution_count": null,
   "metadata": {},
   "outputs": [],
   "source": [
    "%run ../analysis_scripts/LOCUST_field_data_gen_animate.py"
   ]
  },
  {
   "cell_type": "markdown",
   "metadata": {},
   "source": [
    "![SegmentLocal](a_beautiful_perturbation_n2.gif \"n2\")"
   ]
  },
  {
   "cell_type": "markdown",
   "metadata": {},
   "source": [
    "![SegmentLocal](a_beautiful_perturbation_n6.gif \"n6\")\n"
   ]
  },
  {
   "cell_type": "code",
   "execution_count": null,
   "metadata": {},
   "outputs": [],
   "source": []
  },
  {
   "cell_type": "code",
   "execution_count": null,
   "metadata": {},
   "outputs": [],
   "source": []
  }
 ],
 "metadata": {
  "kernelspec": {
   "display_name": "Python 3",
   "language": "python",
   "name": "python3"
  },
  "language_info": {
   "codemirror_mode": {
    "name": "ipython",
    "version": 3
   },
   "file_extension": ".py",
   "mimetype": "text/x-python",
   "name": "python",
   "nbconvert_exporter": "python",
   "pygments_lexer": "ipython3",
   "version": "3.7.2"
  }
 },
 "nbformat": 4,
 "nbformat_minor": 2
}
