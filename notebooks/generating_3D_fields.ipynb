{
 "cells": [
  {
   "cell_type": "markdown",
   "metadata": {},
   "source": [
    "# ITPA Benchmark - guide to generating 3D fields from MARS-F output"
   ]
  },
  {
   "cell_type": "markdown",
   "metadata": {},
   "source": [
    "## What?\n",
    "\n",
    "This is a guide for manipulating 3D field perturbations calculated by MARS-F e.g. including an arbitrary phase difference between the upper/lower coil sets. It does so by running a script which reads MARS-F raw data, plots it and produces a nice little gif before dumping it to the file format of your choice - in this case __POCA__. Then the field is expanded as follows:\n",
    "\n",
    "\\begin{equation}\n",
    "dB_{i}(r,z)=\\Re{\\{dB_{i}(r,z)e^{in\\phi}\\}}\n",
    "\\end{equation}\n",
    "\n",
    "where $dB_{i}(r,z)$ is a complex amplitude output by MARS-F in the poloidal plane\n",
    "\n",
    "## Where and why?\n",
    "\n",
    "This project uses data supplied by Antti Snicker (Aalto) and David Ryan (CCFE) for the ITPA benchmark case (ASDEX-Upgrade).\n",
    "\n",
    "## How?\n",
    "\n",
    "The source code buried within this project is LOCUST_IO, a Python library for LOCUST-GPU data manipulation written by me, samuel.ward@iter.org :) please let me know if you encounter any problems or would like to use the code in your own beautiful project - it's designed to be easy to use and extensible, see *docs/README.md* and *docs/example*. \n",
    "\n",
    "\n",
    "\n",
    "\n",
    "\n"
   ]
  },
  {
   "cell_type": "code",
   "execution_count": null,
   "metadata": {},
   "outputs": [],
   "source": [
    "%run ../analysis_scripts/LOCUST_field_data_gen_animate.py"
   ]
  },
  {
   "cell_type": "markdown",
   "metadata": {},
   "source": [
    "![SegmentLocal](a_beautiful_perturbation_n2.gif \"n2\")"
   ]
  },
  {
   "cell_type": "markdown",
   "metadata": {},
   "source": [
    "![SegmentLocal](a_beautiful_perturbation_n6.gif \"n6\")\n"
   ]
  },
  {
   "cell_type": "code",
   "execution_count": null,
   "metadata": {},
   "outputs": [],
   "source": []
  }
 ],
 "metadata": {
  "kernelspec": {
   "display_name": "Python 3",
   "language": "python",
   "name": "python3"
  },
  "language_info": {
   "codemirror_mode": {
    "name": "ipython",
    "version": 3
   },
   "file_extension": ".py",
   "mimetype": "text/x-python",
   "name": "python",
   "nbconvert_exporter": "python",
   "pygments_lexer": "ipython3",
   "version": "3.7.2"
  }
 },
 "nbformat": 4,
 "nbformat_minor": 2
}
